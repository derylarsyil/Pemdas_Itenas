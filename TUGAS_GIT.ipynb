{
 "cells": [
  {
   "cell_type": "code",
   "execution_count": 1,
   "metadata": {},
   "outputs": [
    {
     "name": "stdout",
     "output_type": "stream",
     "text": [
      "    Nama  Usia   Gaji\n",
      "0   John    25  52500\n",
      "1   Jane    35  63000\n",
      "2    Bob    30  73500\n",
      "3  Alice    28  57750\n"
     ]
    }
   ],
   "source": [
    "import pandas as pd\n",
    "\n",
    "data = {'Nama': ['John', 'Jane', 'Bob', 'Alice'],\n",
    "        'Usia': [25, 35, 30, 28],\n",
    "        'Gaji': [50000, 60000, 70000, 55000]}\n",
    "\n",
    "df = pd.DataFrame(data)\n",
    "\n",
    "# Definisikan fungsi lambda untuk menghitung peningkatan gaji\n",
    "kenaikan_gaji = lambda gaji: gaji * 1.05\n",
    "\n",
    "# Iterasi melalui DataFrame\n",
    "for i in range(len(df)):\n",
    "  # Hitung gaji baru\n",
    "  df.loc[i, 'Gaji'] = kenaikan_gaji(df.loc[i, 'Gaji'])\n",
    "\n",
    "# Tampilkan DataFrame\n",
    "print(df)"
   ]
  },
  {
   "cell_type": "code",
   "execution_count": 2,
   "metadata": {},
   "outputs": [
    {
     "name": "stdout",
     "output_type": "stream",
     "text": [
      "\n",
      "DataFrame setelah peningkatan gaji 5% untuk semua karyawan:\n",
      "    Nama  Usia     Gaji\n",
      "0   John    25  52500.0\n",
      "1   Jane    35  63000.0\n",
      "2    Bob    30  73500.0\n",
      "3  Alice    28  57750.0\n",
      "DataFrame setelah peningkatan gaji untuk usia di atas 30 tahun:\n",
      "    Nama  Usia     Gaji\n",
      "0   John    25  52500.0\n",
      "1   Jane    35  64260.0\n",
      "2    Bob    30  73500.0\n",
      "3  Alice    28  57750.0\n"
     ]
    }
   ],
   "source": [
    "import pandas as pd\n",
    "\n",
    "data = {'Nama': ['John', 'Jane', 'Bob', 'Alice'],\n",
    "        'Usia': [25, 35, 30, 28],\n",
    "        'Gaji': [50000, 60000, 70000, 55000]}\n",
    "\n",
    "df = pd.DataFrame(data)\n",
    "\n",
    "#Peningkatan gaji 5% untuk semua karyawan\n",
    "df['Gaji'] = df['Gaji'].apply(lambda x: x * 1.05)\n",
    "\n",
    "#DataFrame setelah peningkatan gaji 5%\n",
    "print(\"\\nDataFrame setelah peningkatan gaji 5% untuk semua karyawan:\")\n",
    "print(df)\n",
    "\n",
    "#Peningkatan gaji 2% untuk karyawan di atas 30 tahun\n",
    "for index, row in df.iterrows():\n",
    "    if row['Usia'] > 30:\n",
    "        df.at[index, 'Gaji'] = (1 + 0.02) * row['Gaji']\n",
    "\n",
    "#DataFrame setelah peningkatan gaji untuk usia di atas 30 tahun\n",
    "print(\"DataFrame setelah peningkatan gaji untuk usia di atas 30 tahun:\")\n",
    "print(df)\n"
   ]
  }
 ],
 "metadata": {
  "kernelspec": {
   "display_name": "Python 3",
   "language": "python",
   "name": "python3"
  },
  "language_info": {
   "codemirror_mode": {
    "name": "ipython",
    "version": 3
   },
   "file_extension": ".py",
   "mimetype": "text/x-python",
   "name": "python",
   "nbconvert_exporter": "python",
   "pygments_lexer": "ipython3",
   "version": "3.11.6"
  }
 },
 "nbformat": 4,
 "nbformat_minor": 2
}
